{
  "nbformat": 4,
  "nbformat_minor": 0,
  "metadata": {
    "colab": {
      "name": "FedericoMatteoni_assignment4.ipynb",
      "provenance": [],
      "collapsed_sections": []
    },
    "kernelspec": {
      "name": "python3",
      "display_name": "Python 3"
    },
    "language_info": {
      "name": "python"
    }
  },
  "cells": [
    {
      "cell_type": "markdown",
      "source": [
        "## Assignment 4\n",
        "The selected implementation is the one published by the GitHub's user [spro](https://github.com/spro/char-rnn.pytorch), which uses PyTorch.\n",
        "\n",
        "Some customization were made, in order to adapt the code to the experiment, about presentation and usage rather than functionality."
      ],
      "metadata": {
        "id": "kq6yjq2ApGlp"
      }
    },
    {
      "cell_type": "markdown",
      "source": [
        "### Preliminaries"
      ],
      "metadata": {
        "id": "iTolZcxutK-2"
      }
    },
    {
      "cell_type": "code",
      "source": [
        "import sys\n",
        "import csv\n",
        "import random\n",
        "import string\n",
        "import math\n",
        "import torch\n",
        "import torch.nn as nn\n",
        "import numpy as np\n",
        "from torch.autograd import Variable\n",
        "from tqdm import tqdm"
      ],
      "metadata": {
        "id": "aICTYMjypWGW"
      },
      "execution_count": 3,
      "outputs": []
    },
    {
      "cell_type": "markdown",
      "source": [
        "First, we define the CharRNN model. It's customizable in input and hidden sizes, as well as LSTM or GRU usage and the number of layers."
      ],
      "metadata": {
        "id": "ii9ZbGgupv_b"
      }
    },
    {
      "cell_type": "code",
      "source": [
        "class CharRNN(nn.Module):  # https://github.com/spro/char-rnn.pytorch\n",
        "    def __init__(self, input_size, hidden_size, output_size, model=\"gru\", n_layers=1):\n",
        "        super(CharRNN, self).__init__()\n",
        "        self.model = model.lower()  # to select between LSTM and GRU layer\n",
        "        self.input_size = input_size\n",
        "        self.hidden_size = hidden_size\n",
        "        self.output_size = output_size\n",
        "        self.n_layers = n_layers\n",
        "\n",
        "        self.encoder = nn.Embedding(input_size, hidden_size)  # encodes the input\n",
        "        if self.model == \"gru\":  # recurrent passage with GRU\n",
        "            self.rnn = nn.GRU(hidden_size, hidden_size, n_layers)\n",
        "        elif self.model == \"lstm\":  # recurrent passage with LSTM\n",
        "            self.rnn = nn.LSTM(hidden_size, hidden_size, n_layers)\n",
        "        self.decoder = nn.Linear(hidden_size, output_size)  # decodes the output state\n",
        "\n",
        "    def forward(self, input, hidden):\n",
        "        batch_size = input.size(0)\n",
        "        encoded = self.encoder(input)\n",
        "        output, hidden = self.rnn(encoded.view(1, batch_size, -1), hidden)\n",
        "        output = self.decoder(output.view(batch_size, -1))\n",
        "        return output, hidden\n",
        "\n",
        "    def forward2(self, input, hidden):\n",
        "        encoded = self.encoder(input.view(1, -1))\n",
        "        output, hidden = self.rnn(encoded.view(1, 1, -1), hidden)\n",
        "        output = self.decoder(output.view(1, -1))\n",
        "        return output, hidden\n",
        "\n",
        "    def init_hidden(self, batch_size):\n",
        "        if self.model == \"lstm\":\n",
        "            return (Variable(torch.zeros(self.n_layers, batch_size, self.hidden_size)),\n",
        "                    Variable(torch.zeros(self.n_layers, batch_size, self.hidden_size)))\n",
        "        return Variable(torch.zeros(self.n_layers, batch_size, self.hidden_size))"
      ],
      "metadata": {
        "id": "zDVG8lQupoYJ"
      },
      "execution_count": 4,
      "outputs": []
    },
    {
      "cell_type": "markdown",
      "source": [
        "The we define some utility functions. The first is a function used to turn a given string into a Tensor of character indexes"
      ],
      "metadata": {
        "id": "T3JlYyAUqc6Y"
      }
    },
    {
      "cell_type": "code",
      "source": [
        "all_characters = string.printable\n",
        "def char_tensor(string):\n",
        "    tensor = torch.zeros(len(string)).long()  # inits the tensor\n",
        "    for c in range(len(string)):\n",
        "        # encodes each character with its string.printable index\n",
        "        try:\n",
        "            tensor[c] = all_characters.index(string[c])\n",
        "        except:\n",
        "            continue\n",
        "    return tensor"
      ],
      "metadata": {
        "id": "A3dkuHC0pvYY"
      },
      "execution_count": 5,
      "outputs": []
    },
    {
      "cell_type": "markdown",
      "source": [
        "The models take some time to be trained (circa 1h each), so we define a function to save it in order to be able to do some quick experiments."
      ],
      "metadata": {
        "id": "LHeIbsChrEFo"
      }
    },
    {
      "cell_type": "code",
      "source": [
        "def save(model, filename):\n",
        "    torch.save(model, filename)\n",
        "    print('Saved as %s' % filename)"
      ],
      "metadata": {
        "id": "w43UUEN_quY2"
      },
      "execution_count": null,
      "outputs": []
    },
    {
      "cell_type": "markdown",
      "source": [
        "During training, we sample a random chunk from the training set in order to speed up the training while still being able to see most of the training corpus."
      ],
      "metadata": {
        "id": "EW-YdjierQgF"
      }
    },
    {
      "cell_type": "code",
      "source": [
        "def random_training_set(text, chunk_len, batch_size):\n",
        "    text_len = len(text)\n",
        "    inp = torch.LongTensor(batch_size, chunk_len)\n",
        "    target = torch.LongTensor(batch_size, chunk_len)\n",
        "    for bi in range(batch_size):  # we produce batch_size batches\n",
        "        # each batch has a chunk_len length portion of the corpus\n",
        "        start_index = random.randint(0, text_len - chunk_len)\n",
        "        end_index = start_index + chunk_len + 1\n",
        "        chunk = text[start_index:end_index]\n",
        "        inp[bi] = char_tensor(chunk[:-1])\n",
        "        target[bi] = char_tensor(chunk[1:])\n",
        "    inp = Variable(inp)\n",
        "    target = Variable(target)\n",
        "    return inp, target"
      ],
      "metadata": {
        "id": "9j97DMy_rPRY"
      },
      "execution_count": null,
      "outputs": []
    },
    {
      "cell_type": "markdown",
      "source": [
        "Then we define the training function, which iterates over the chunks and trains the model."
      ],
      "metadata": {
        "id": "lG9s5RRCr4rY"
      }
    },
    {
      "cell_type": "code",
      "source": [
        "def train(model, inp, target, chunk_len, batch_size):\n",
        "    hidden = model.init_hidden(batch_size)\n",
        "    model.zero_grad()\n",
        "    loss = 0\n",
        "\n",
        "    for c in range(chunk_len):\n",
        "        output, hidden = model(inp[:,c], hidden)\n",
        "        loss += criterion(output.view(batch_size, -1), target[:,c])\n",
        "\n",
        "    loss.backward()\n",
        "    decoder_optimizer.step()\n",
        "\n",
        "    return loss.data / chunk_len"
      ],
      "metadata": {
        "id": "MtHDamIJsKFW"
      },
      "execution_count": null,
      "outputs": []
    },
    {
      "cell_type": "markdown",
      "source": [
        "Now we define some global parameters"
      ],
      "metadata": {
        "id": "wW5zIx47sNYA"
      }
    },
    {
      "cell_type": "code",
      "source": [
        "model = \"gru\"\n",
        "n_epochs = 2000\n",
        "hidden_size = 250\n",
        "n_layers = 2\n",
        "learning_rate = 0.015\n",
        "chunk_len = 250\n",
        "batch_size = 100"
      ],
      "metadata": {
        "id": "RMrQrrqusKbA"
      },
      "execution_count": null,
      "outputs": []
    },
    {
      "cell_type": "markdown",
      "source": [
        "Then we load the CSV with the presidential speeches and build two lists with the sentences of each president we're interested in: Bill Clinton and Donald Trump."
      ],
      "metadata": {
        "id": "jyb28jo9sb7f"
      }
    },
    {
      "cell_type": "code",
      "source": [
        "clinton, trump = [], []\n",
        "csv.field_size_limit(sys.maxsize)\n",
        "with open(\"corpus.csv\") as file:\n",
        "    reader = csv.reader(file, delimiter=\",\", quotechar=\"\\\"\")\n",
        "    for row in reader:\n",
        "        if (row[0] == \"Bill Clinton\"): clinton = row\n",
        "        if (row[0] == \"Donald Trump\"): trump = row\n",
        "\n",
        "# to build the sentences we split at each sentence delimiter: \".\", \"!\", \"?\" and \"\\n\"\n",
        "clinton_sentences = clinton[2].replace(\".\", \"\\n\").replace(\"!\", \"\\n\").replace(\"?\", \"\\n\").split(\"\\n\")\n",
        "print(clinton[0], len(clinton[2]))\n",
        "print(random.choice(clinton_sentences))\n",
        "\n",
        "trump_sentences = trump[2].replace(\".\", \"\\n\").replace(\"!\", \"\\n\").replace(\"?\", \"\\n\").split(\"\\n\")\n",
        "print(trump[0], len(trump[2]))\n",
        "print(random.choice(trump_sentences))"
      ],
      "metadata": {
        "colab": {
          "base_uri": "https://localhost:8080/"
        },
        "id": "YQjr5e77sQlQ",
        "outputId": "db9e294b-4fd7-462a-dffd-929476f72838"
      },
      "execution_count": 10,
      "outputs": [
        {
          "output_type": "stream",
          "name": "stdout",
          "text": [
            "Bill Clinton 768815\n",
            " I challenge every community, every school, and every state to adopt national standards of excellence, to measure whether schools are meeting those standards, to cut bureaucratic red tape so that schools and teachers have more flexibility for grassroots reform, and to hold them accountable for results\n",
            "Donald Trump 475677\n",
            " That is why I am here today, to break the logjam and provide Congress with a path forward to end the government shutdown and solve the crisis on the southern border\n"
          ]
        }
      ]
    },
    {
      "cell_type": "markdown",
      "source": [
        "### Recurrent Neural Presidents training\n",
        "\n",
        "The first president examined is Bill Clinton. First, we build its model."
      ],
      "metadata": {
        "id": "tEVpsbXItIZ6"
      }
    },
    {
      "cell_type": "code",
      "source": [
        "clinton_RNP = CharRNN(\n",
        "    len(all_characters),  # input size\n",
        "    hidden_size, # 250 hidden units per layer\n",
        "    len(all_characters),  # output size\n",
        "    model=model,  # gru\n",
        "    n_layers=n_layers,  # 2 layers\n",
        ")\n",
        "decoder_optimizer = torch.optim.Adam(clinton_RNP.parameters(), lr=learning_rate)\n",
        "criterion = nn.CrossEntropyLoss()"
      ],
      "metadata": {
        "id": "1LYA7aCVssaJ"
      },
      "execution_count": null,
      "outputs": []
    },
    {
      "cell_type": "markdown",
      "source": [
        "And we train, saving it when done"
      ],
      "metadata": {
        "id": "wtDnmkUVtsvW"
      }
    },
    {
      "cell_type": "code",
      "source": [
        "print(\"Training \\\"Clinton Recurrent Neural President\\\" for %d epochs...\" % n_epochs)\n",
        "for epoch in tqdm(range(1, n_epochs + 1)):\n",
        "    loss = train(clinton_RNP, *random_training_set(clinton[2], chunk_len, batch_size), chunk_len, batch_size)\n",
        "\n",
        "save(clinton_RNP, \"RNP_clinton.pt\")"
      ],
      "metadata": {
        "id": "EHSTjny0teLI"
      },
      "execution_count": null,
      "outputs": []
    },
    {
      "cell_type": "markdown",
      "source": [
        "Similar process for Donald Trump."
      ],
      "metadata": {
        "id": "wKu2jfxnuFTo"
      }
    },
    {
      "cell_type": "code",
      "source": [
        "trump_RNP = CharRNN(\n",
        "    len(all_characters),  # input size\n",
        "    hidden_size, # 250 hidden units per layer\n",
        "    len(all_characters),  # output size\n",
        "    model=model,  # gru\n",
        "    n_layers=n_layers,  # 2 layers\n",
        ")\n",
        "decoder_optimizer = torch.optim.Adam(trump_RNP.parameters(), lr=learning_rate)\n",
        "criterion = nn.CrossEntropyLoss()\n",
        "print(\"Training \\\"Trump Recurrent Neural President\\\" for %d epochs...\" % n_epochs)\n",
        "for epoch in tqdm(range(1, n_epochs + 1)):\n",
        "    loss = train(trump_RNP, *random_training_set(trump[2], chunk_len, batch_size), chunk_len, batch_size)\n",
        "\n",
        "save(trump_RNP, \"RNP_trump.pt\")"
      ],
      "metadata": {
        "id": "xBo4yIO1t0KQ"
      },
      "execution_count": null,
      "outputs": []
    },
    {
      "cell_type": "markdown",
      "source": [
        "### Analysis\n",
        "\n",
        "Before analyzing the two RNP, we define the generation function.\n",
        "\n",
        "This function feeds a \"starter\" string to the specified model and generates a string of length `predict_len`.\n",
        "\n",
        "In order to have a nicer output, if `proper_ending` is `True`, the model generates at least the specified number of characters and stops only when a `.` is generated.\n",
        "\n"
      ],
      "metadata": {
        "id": "KC5dGJdduSJd"
      }
    },
    {
      "cell_type": "code",
      "source": [
        "def generate(decoder, prime_str='A', predict_len=100, temperature=0.8, proper_ending=True):\n",
        "    hidden = decoder.init_hidden(1)\n",
        "    prime_input = Variable(char_tensor(prime_str).unsqueeze(0))\n",
        "    predicted = prime_str\n",
        "\n",
        "    # Use priming string to \"build up\" hidden state\n",
        "    for p in range(len(prime_str) - 1):\n",
        "        _, hidden = decoder(prime_input[:,p], hidden)\n",
        "\n",
        "    inp = prime_input[:,-1]\n",
        "\n",
        "    for p in range(predict_len):\n",
        "        output, hidden = decoder(inp, hidden)\n",
        "\n",
        "        # Sample from the network as a multinomial distribution\n",
        "        output_dist = output.data.view(-1).div(temperature).exp()\n",
        "        # ugly fix for \"probability tensor contains either `inf`, `nan` or element < 0\"\n",
        "        output_dist[output_dist == float(\"Inf\")] = 1.0e+10\n",
        "        top_i = torch.multinomial(output_dist, 1)[0]\n",
        "\n",
        "        # Add predicted character to string and use as next input\n",
        "        predicted_char = all_characters[top_i]\n",
        "        predicted += predicted_char\n",
        "        inp = Variable(char_tensor(predicted_char).unsqueeze(0))\n",
        "\n",
        "    if (proper_ending):\n",
        "        while (predicted[-1] != \".\"):  # generates until the next \".\"\n",
        "            output, hidden = decoder(inp, hidden)\n",
        "\n",
        "            output_dist = output.data.view(-1).div(temperature).exp()\n",
        "            output_dist[output_dist == float(\"Inf\")] = 1.0e+10\n",
        "            top_i = torch.multinomial(output_dist, 1)[0]\n",
        "\n",
        "            predicted_char = all_characters[top_i]\n",
        "            predicted += predicted_char\n",
        "            inp = Variable(char_tensor(predicted_char).unsqueeze(0))\n",
        "\n",
        "    return predicted[len(prime_str):]"
      ],
      "metadata": {
        "id": "BN5b2VKuuNtG"
      },
      "execution_count": 6,
      "outputs": []
    },
    {
      "cell_type": "markdown",
      "source": [
        "For the generations, we want the temperature value and a \"custom\" random sentence."
      ],
      "metadata": {
        "id": "IFH2q-tPvLXb"
      }
    },
    {
      "cell_type": "code",
      "source": [
        "custom_sentence = \"People keep telling me orange but I still prefer pink.\"\n",
        "temperature = 0.25"
      ],
      "metadata": {
        "id": "w-OgPEeDvX2u"
      },
      "execution_count": null,
      "outputs": []
    },
    {
      "cell_type": "markdown",
      "source": [
        "We now analyze the RNP Clinton."
      ],
      "metadata": {
        "id": "AV9Bv92gvd1-"
      }
    },
    {
      "cell_type": "code",
      "source": [
        "clinton_sentences_lengths = [len(str) for str in clinton_sentences]\n",
        "clinton_sentences_avglen = float(sum(clinton_sentences_lengths))/len(clinton_sentences_lengths)\n",
        "print (\"The real President Clinton has an average sentence length of \" + \"{:5.5}\".format(clinton_sentences_avglen) + \" characters\")\n",
        "clinton_sentences_avglen = int(clinton_sentences_avglen)\n",
        "clinton_RNP = torch.load(\"RNP_clinton.pt\")"
      ],
      "metadata": {
        "colab": {
          "base_uri": "https://localhost:8080/"
        },
        "id": "PuNRiMXAvYHw",
        "outputId": "8bf29736-68a7-4b93-bf71-be74a5cd2411"
      },
      "execution_count": 13,
      "outputs": [
        {
          "output_type": "stream",
          "name": "stdout",
          "text": [
            "The real President Clinton has an average sentence length of 110.28 characters\n"
          ]
        }
      ]
    },
    {
      "cell_type": "markdown",
      "source": [
        "To evaluate the CharRNN model we pick 100 random sentences of the real president, feed the first few characters to the CharRNN and then evaluate the similarity between the real and the generated sentence using the `SequenceMatcher`'s ratio from the `difflib` library."
      ],
      "metadata": {
        "id": "D2WdczKlxfII"
      }
    },
    {
      "cell_type": "code",
      "source": [
        "from difflib import SequenceMatcher\n",
        "scores = []\n",
        "for i in range(100):\n",
        "    rnd_sentence = random.choice(clinton_sentences).strip()\n",
        "    gen_sentence = rnd_sentence[0:5] + generate(clinton_RNP, rnd_sentence[0:5], len(rnd_sentence) - 5, temperature = temperature, proper_ending = False)\n",
        "    scores.append(SequenceMatcher(None, rnd_sentence, gen_sentence).ratio())\n",
        "print(\"The Recurrent Neural President Clinton resembles the real President Clinton at\", \"{:.3}%\".format(np.mean(scores)*100))"
      ],
      "metadata": {
        "colab": {
          "base_uri": "https://localhost:8080/"
        },
        "id": "PG2UemZ0wfhq",
        "outputId": "c56658bf-63b7-486c-d20f-8d10b5d15157"
      },
      "execution_count": null,
      "outputs": [
        {
          "output_type": "stream",
          "name": "stdout",
          "text": [
            "The Recurrent Neural President Clinton resembles the real President Clinton at 35.2%\n"
          ]
        }
      ]
    },
    {
      "cell_type": "markdown",
      "source": [
        "For the sake of analysis, let's see how well the CharRNN of the president Clinton resembles the real president Trump."
      ],
      "metadata": {
        "id": "8Efo6iyJx_qF"
      }
    },
    {
      "cell_type": "code",
      "source": [
        "scores = []\n",
        "for i in range(100):\n",
        "    rnd_sentence = random.choice(trump_sentences).strip()\n",
        "    gen_sentence = rnd_sentence[0:5] + generate(clinton_RNP, rnd_sentence[0:5], len(rnd_sentence) - 5, temperature = temperature, proper_ending = False)\n",
        "    scores.append(SequenceMatcher(None, rnd_sentence, gen_sentence).ratio())\n",
        "print(\"The Recurrent Neural President Clinton resembles the real President Trump at\", \"{:.3}%\".format(np.mean(scores)*100))"
      ],
      "metadata": {
        "colab": {
          "base_uri": "https://localhost:8080/"
        },
        "id": "WRYubWXix1dZ",
        "outputId": "7cd4c985-9321-42bd-bb62-2d61516bd0cb"
      },
      "execution_count": null,
      "outputs": [
        {
          "output_type": "stream",
          "name": "stdout",
          "text": [
            "The Recurrent Neural President Clinton resembles the real President Trump at 41.2%\n"
          ]
        }
      ]
    },
    {
      "cell_type": "markdown",
      "source": [
        "A surprising result. After training on almost 770k characters pronounced by the real president Clinton, the artificial president Clinton is 6% more similar to the real president Trump than Clinton.\n",
        "\n",
        "Let's see some sample speeches. First, a simple speech made of 15 sentences starting with \"Dear Americans,\""
      ],
      "metadata": {
        "id": "M-VG5I6iyMn_"
      }
    },
    {
      "cell_type": "code",
      "source": [
        "print(\"\\nSample speech\")\n",
        "print(\"\\\"Dear Americans,\" + generate(clinton_RNP, \"Dear Americans,\", clinton_sentences_avglen*15, temperature=temperature) + '\\\"\\n')"
      ],
      "metadata": {
        "colab": {
          "base_uri": "https://localhost:8080/"
        },
        "id": "eZ7amjgCyI4g",
        "outputId": "068c6d37-21d5-4fb4-8668-b5a76843b39c"
      },
      "execution_count": null,
      "outputs": [
        {
          "output_type": "stream",
          "name": "stdout",
          "text": [
            "\n",
            "Sample speech\n",
            "\"Dear Americans, the Congress the states to do the Congress with the Congress the people who are provide the first time to provide the Senator Kennedy and Congress for the Congress the American people to strengthen the people who have a chance to see the people to our people to see the streets and the first time to provide the health care and the security of the people the states to strengthen the first time to help the programs the problems of the states and the people in the people to do the people to pay the conversations to the Union and Congress and the Congress to see the first time to all the Congress to see the Congress the strength of the Congress to see the political secure the people to the most of the environment and the first time to see the people to provide the people for a single people are the street of the people are the communities and the environment of the people the people the Congress the commitment to pay to pay to see the first time and the Congress and the Congress and Congress to provide the states of the people who work and the same time to start the Congress and the Congress and the Congress the work with the people who work to help the problems to pay the streets and the first time to build a policies of the time to see the Congress who have the problems of the world that all the people the Senator Kosovo the work of the people to the Senator Kennedy and the Congress and the Congress must be the people are strength of the took the streets to provide the people to the commitment the Senate the Congress to all the State of the Congress the President Congress to the Congress and Congress the Congress the President Congress the same time the Congress and the Congress to the President Congress to stop the National Kanomic President Congress to help the Congress the work we have the first time the Congress to make the people who are also have a chance to do it to passed the work the problems and the work of the same to the streets and the same time to stand the face of the productivity to do the production the people are always a proposing the days and the same time of the Congress the President Congress the Senate the Congress the strength of the President Congress to support the Congress the Senate the same time when the Senate the Congress the states and the Congress and Reverend Reverend Depression and the Congress to advance the State to help the strength and the Congress the challenge the State of the Congress the streets and the streets and the people who have a stronger and the Senate the challenges the strength of the streets and the Senate the Congress to the Congress the Senate and the President Congress the police about the first time to stop the people are the commitment and the law about the people the same time to have to see the streets and the challenge and the streets to the same troops and the communities the people to the last 1 this and the Congress to the people the strength of the people the people are always the deficit the strength of the people the people the states to see the days and the last time the people to do the companies the strength of the environment that the people to strengthen the health care and the states of the people the streets and the people to see the streets and the same time to stay the people are also have live and the thousands of the people here and the people the people are the people to the people to have the same true the people the streets and the last time the people the Senate and the Senate the same to see the State and the Senate the Senate the streets of the people the Senate and the Congress the Senator Depring Congress and the Congress the strength of the Senate the people the hard to strengthen the same troops to see the Congress and the Senator Department the Congress to stay the same time the streets and the Senator Depressive and Russia and Congress and Congress who are the Senate the Senate with the problems of the Congress the Senate and the Senator Social Security and the streets in the Senate the Senate people to help the people to see the Senator Sominal State to stay the Senate the states of the people who have a continue to support the State and the Congress to pass the Senator Somalia to provide the State of the Constitution and Congress to stand it to see the Senator State and the Senate and the Senator Somalia to pay the State of the Senate the Congress the President Congress to the Congress and the Congress to see the Congress to help the people to strengthen our families and the State and the Senate and the Congress to see the people to the Senator Somalia to serve the Senate the Senate the Senate and the Congress to see the Senator 0 trade the Congress the world the people the Congress to provide the people who work to the people are problems and the same time the Senate and the Social Security of the State to pay the Congress the State to see the State and the Senate the Congress and Department and Congress the Congress the Senate the Congress and the Congress and the Congress the Senator State of the President Congress the people are stronger and strength of the conversations to the Senator Somalia to pay the Senator State and the Senate the Congress the Congress the Senate and Social Security to the first time the same time to stand the people who are a stronger and the Senators I have the Senate the Senator 0 the Senator Somalia who are a standards of the Congress the strength of the environmental people who have a place and the first time to strengthen the people of the streets and the people the strength of the people to see the world to the same true the people to pay about the conversation and the people to help the people who are a stronger and the world the Senate when the Congress and the Congress the people to help to the Convention and the Senator Social Security and the Senator Somalia to help the Senator Somalia to help the Congress the took the people who have also will stay the people the same troops and the Palestinian Congress to the Senator Social Security that the President Congress and Congress the President China, and the Congress the people to pay the difficult the people to all the Congress to save the strength of the State of the Congress the State of the companies the problems and the Congress and the Congress the Senate the Union and the Congress and the Congress and the Congress to strengthen the Congress the Senator Somalia to stay and the United States Congress and the Congress the Senate the streets to the Congress and the Congress the promise of the Congress and the Congress to make the states of the Congress the Senator State and the Senate the Congress to be the first time and the people who stay the strength of the political service the people to the world the problems and the people to the environment to help to the people to provide the mission and the Senator Somalia's the Senators and the Congress the profits and the Capitic Congress the standards of the Senator State and the Congress and the Congress and the Congress to help the Senate to strengthen the Congress to pass the Senate and the Congress the strength of the Congress the Senator Somalia to strengthen the environment to the Senator Somalia to strengthen the Senate the Senate the Congress and the Congress and the Congress to pass the Congress the Congress the Senate the Senate the Senate and the Senator Somalia to see the challenges of the Social Security for the Senator 0 the Social Security of the promise of the streets and the same time to the people who have a stronger and the Senator Somalia to strengthen the Senate and the Senate the Congress the Senator State and the Senator Somalia's to see the Senate and the Senate the Congress the Senate and the Senator Somalia to see the Congress to the Congress and the Congress and the Congress the people to be able to stop the strength and about the people the streets and strengthen the six it and the same troops and the streets and parents and the communities and the people who are a stronger and the Senator Somalia to see the people to do the streets that the streets and the same time the Senate the streets to the same time to pay the security and the Senate and the Senate and the Senator Somalia to the Senate and the streets to the Congress and the Congress the Congress and the Congress the people are also able to support the world to strengthen the people the streets and the people who are strengthen the people to all the streets and the said the standards of the families here and the companies to pay about the people to help the people to stop the prosperous and the people who have the companies and the streets to the streets of the people who work to stand it to see the last and the same time to provide the problems to have the problems of the people the people who work to pay the people to help the provides the people to real and the problems and the people to help the people who have a chance to stand of the same time to the streets to help the people to see the first time and the problems to see the strength of the streets to stop the streets of the proposal the Senator Social Security for the first time when the people are stronger and the first time to see the people are states a comprehensive to see the people who have the teachers to pay about the streets to the streets and the same to the things and the Senate the Congress to make the people to college to see the State of the days and the Congress for the Congress to strengthen the Senate to pass the Congress and the Senate China, Congress the President China, and Congress the strength of the Senate than and the Senate and the President Congress the Congress to the State of the Congress to stay the same troops to see the Senator Somalia to the Congress with the streets and the Congress and the Congress the support the Congress and the Congress and the Congress the people to see the streets and the Congress the strength of the States of the Congress the Senate the Senator Social Security and the same provided to help the people to pay the people to help the Senate and the streets and the people who are stronger and the people who have a chance to provide the work the students the people to the people who are and the proposal the same to the environmental teachers of the past to make the State the Senator State and the streets and the Senator Social Security for the same time to see the same time the people to see the security and the Senate and the Senate the Congress to a chance to end the streets to meet the people to provide the people who stay and the problems to strengthen the police officers of the past the Senate the Congress the Senate and the Senator State of the Senator Somalia to provide the students moved the Congress the Congress to see the State of the State of the State and provided to see the Congress with the streets and the Senate security to strengthen the people to support the political problems the people who have a chance to support the people who have to the streets and the continue to be problems the same to have a part of the companies and streets to do the people the people to support the security the strength of the Senator Social Security and the problems and the people here with the most of the states to help the programs the people to see the people who are a stronger for the streets to help the people who are a stronger and the people who have the private the took the people who are and the same to the people who have a stronger and the people are also must help the streets of the people to see the people are problems the construction to help the people to all the Congress the streets to provide the State of the Congress to help the Congress the Senator Somalia to stay that the Senate the State of the streets and the Congress the Senate the Congress the Senate to see the Congress and the Congress and the Congress the Congress to the Congress the Senate the Congress and the Congress the people who are a stronger for the people to help the people to the people the community stronger and the streets and the same to provide the states and based the people are some the people to see the health care and the streets and the last a stronger and the same true the people to see the business the people the strength of the streets the people are some of the promise of the states to be able to put the continue to see the people to have to see the streets and the proposal the people to put the people to see the environment, and the same time to the same television of the streets and the streets and the people to provide the people to all the people who have a communities and the world's greatest the same to the people the streets and political partnerships and the people in the first time to the security the problems and the people to strengthen the strength of the security to help the streets to provide the mission and the political partnerships of the people are also have a chance to save the streets and the Senator 0 talks and the President Congress to the Congress to the Congress to strengthen the Congress the President Congress to provide the State of the State and the Senate the Senator Somalia to stay the Senator Somalia to provide partnerships and the Congress and the Congress the students to pay the Senator Somalia and the Senator Somalia to pay the people to see the Congress the State of the Congress and the Congress to the Congress and the Congress the people to see the Senate the Senate and strength of the Senator State to save the people to the Senate and the State of the streets and the Congress to the State and a stronger and the people who are and the Congress and the Congress who have a stronger the Congress to pay the Senator 0 think and the people are states, the streets and the people the people who have a comprehensive and the people who are here and the people of the Congress the President Congress and the Congress the proposal the same time the Senator Somalia has a standards the Senate the streets and the Congress the strength of the Senator Somalia to provide the streets when the Senator 0 trade all the Congress the President Congress and the Congress with the Congress to see the Congress to see the streets who should also leave the political partnerships and our families and the strength of the first time say the first time to help the same time the people are the streets and the same time of the people who are and the people to represented the first time the world the people to help the same trust to all the people to the people to see the 21st century and the streets and the streets and the terrible the Senator 0 the Congress to save the streets and the streets to see the world's health care and the Senate the Senate the Senate the Congress the streets and opportunity to see the United States Congress that the Senate of the Congress and the Congress and Congress to the State of the State of the same to see the mission and the Congress the strength of the Congress have also have a secure the tax cuts and the people to be problems and the way the people to see the people are also have a chance to provide the states when the programs to help the people the Senate and the Congress and the Congress the Senate the Congress for the Congress the State of the police and the Senate is the testant the Congress and the Congress and the Congress and the Congress and the Congress the Congress to provide the people who are a stronger for a comprehensive action to do the streets and the same to the people have a chance to stand it and the same troops and the strength of the streets and the streets and the same time to the same time to see the people who stay the strength of the things the people who are secure the Senate the Senator Somalia to stay the Senate the Senate than and the Congress the people the Congress and the Congress to pay the people to make the political pay the Congress that the Congress to stay and the Senate and the Congress the students health care and her people to stop the programs to help the people are also have to help the people who are also stand it has been the first time to support the people to help the people in the same time to the streets and the said to do the streets and the people to the environment to stop the people to explose the political secure the political parents the statess to the conditions and the environment the programs the police officers and the streets and the people to the streets and the State of the Congress the simple the streets and the Senate strength of the Congress who stay and the Congress to the Congress to strengthen a chance to stay a stronger and the Congress and Congress and the Congress the students who are and the Senate the Senate of the environment to stand the people to the Congress the Senate the Congress and the Congress to the Congress the Senate the Senate and I am provide the Senator Serbia, and the Congress and the Congress the Senator 0 time the Congress the Congress and the Senate China Congress the work to strengthen the Congress the State and the Senator Somalia's the Senate to do the health care and the proposal the streets to see the problems of the commitment to make the streets of the streets and the same time to see the streets and the same time to the three to all the people who have a chance to save a chance to save the strengthen a stronger and the streets and the commitment and the Senate the Senate the Congress that we can not a chance to every stay and the people the Senator Kosovo and the Congress to see the past the people to the people who are here the people are stronger and the families and the streets and the people the same to the Senate the people to stop the Congress the world the Senate and the Senator Social Security of the people are the people the past the streets and strengthen the people to help to the Senate states the Congress the world the political service the Congress the states and the Congress the people who have a comprehensive and the Congress the Congress that the Congress and the Congress the standards of the State of the people the people to help the secure in the people the same time the people to put the private the same troops the people to stop the problems the problems when the real and the problems to get the bill the people are stronger and the streets and the people to help the same troops to an all the Senate and the Congress and the Congress the Congress who have a comprehensive to support the States to strengthen the strength, the people who have to see the world the Senate and the Senators who are always a part of the world to work to make a send to see the people the Senator 0 think the Congress and the Senate Congress to stay to pay the Senate the Congress and the Congress is a chance to the Congress and the Congress to the Congress the people to help the streets to see the same to pay about the development to be as a sense and the people to see the problems of the same time to see the people the people to pay the problems of the future that the Congress to strengthen the Senate than and the Senator Somalia's partnerships because the people who have a stronger and the Congress and the Congress the State and the Senate to the Congress to support the Congress to all the Congress to the Congress the still a stronger and the Senate the Congress and the Congress the Senate security to see the people to support the people are strength of the families the proposal the different stronger and the people to see the new century and the streets and stronger for the environment to support the first time to the world the people to see the states of the first time to support the world the problems of the people who have the security to see the problems and the people to the streets and the people to support the television and the same to the streets to the same time the same time to support the private to support the problems of the world is a percent of the people are always a part of the Congress the statess and the Congress the President Congress and the Congress to the Congress that the Senate the Congress the Senate the Congress the Senate we can all the Senators and the streets and the Congress that we have a chance to help the people who have stronger completicives must be able to help the people the 21st century in the first time to strengthen the strength of the people who have the people who are have the people to strengthen the same time to be able to give the streets and the people to see the same to help the children of the streets and the strength of the streets to the people to pay the strength of the people the streets and partnerships and the world the community of the first families who are and the Congress the Senate and the Senator Somalia to serve the Senator Somalia to the Congress and Congress the Congress and Congress to the Congressional Congress the Congress the Congress the streets and the Senator 0 think the Congress have to see the people of the Congress and the Palestinian Senator Somalia, and God bless Congress the Senate and the Congress the time to see the Congress and the Congress, and God bless Congress to the Congress the problems and the Congress and the Congress and the Congress the Congress the American people are also have to support the streets to see the streets and the people are also have a stronger and the people to help the private troops are the commitment to see the best the strength and the same true and the Senate made the Congress and Congress that the Congress who are a stronger and the Congress and the Congress the Congress the American people are also don't stop them and the people to the State of the Congress to provide the President Congress that we have a sense the first time the Congress who have the Congress and the Congress to see the Congress and the Congress and the Congress that the problems to pay about the Congress and the Congress the Senator 0 think the Congress who have always been the people are also have a parties and the same troops to see the health care and the people to provide support the families and the political programs to have a chance to see the proposal the Senate and the Congress to see the Congress and Congress to see the Congress and the President Congress and I have a states and the Congress the Superson to see the same time to see the Congress the Congress the Congress that the Congress to the Congress the Senate the Congress and the Congress the world's political service and the Congress to make the political parents and the Congress and the Congress to be able to help the same to the same time and the first time of the same troops to see the same to the communities and the programs the streets and the people who are also have a states about the streets and the work on the same troops and the streets and the people the people to have a domested the health care and the people who have a programs the strengthen the same troops and the commitment the streets and the health care and the same to help the families to some of the streets and the State of the Congress for the Congress the Senator King to stay and the Congress to all the Congress and Congress to be able to stand of the people the first time to see the first time to respect the people who have a community and the the same troops and the homes and the streets and the first time the same time to be able to support the same to the secure the same to support the world.\"\n",
            "\n"
          ]
        }
      ]
    },
    {
      "cell_type": "markdown",
      "source": [
        "Then a speech of 5 sentences where we feed the RNP Clinton a random sentence of its real counterpart. The feeded real sentence is highlighted in square brackets."
      ],
      "metadata": {
        "id": "u1sGZjFfy-Ni"
      }
    },
    {
      "cell_type": "code",
      "source": [
        "rnd_sentence = random.choice(clinton_sentences).strip()\n",
        "print(\"Clinton as Clinton:\\\"[\" + rnd_sentence + \"]\", end = \"\")\n",
        "print(generate(clinton_RNP, rnd_sentence, clinton_sentences_avglen*5, temperature=temperature) + '\\\"\\n')"
      ],
      "metadata": {
        "colab": {
          "base_uri": "https://localhost:8080/"
        },
        "id": "rzJ9HuKBy4Ji",
        "outputId": "3fa6b21b-713d-4155-cb48-8b5c7e368555"
      },
      "execution_count": null,
      "outputs": [
        {
          "output_type": "stream",
          "name": "stdout",
          "text": [
            "Clinton as Clinton:\"[If we want America to lead, we've got to set a good example] and the problems and the problems of the first time to provide the streets and the streets that the police officers of the streets of the programs that is the problems to the people the community and the community of the first time to the programs that the streets and the people to continued to the same stronger and the next people to the streets and the people to the people to the programs the people to the same time of the problems of the streets and the police officer to do the first time to pay to the first time the world to the programs to the problems and the streets and the programs to the productive and the programs that is a children of the proposal to end the first time and the problems of the people who work to stop the people to the last about the problems of the people to have a communities and the streets to the common and the first time to provide the first time to help you to the enduring the programs to the streets of the last complete in the first time to the people are all the first time to the continue to provide the millions of the same troops to the children for the programs to the community to stand the private the police officers of our communities and the problems of the people to see the community to stay and the families of the new trade are all the problems of the problems and the people who worked to provide the streets and the end the continue to do the streets and the programs to the first time to the private the people who have a consensive people who have a community of the thousands of the prosperity and the problems of the programs to the police officers of the people to the problems of the programs with the first time and the first time to provide a stronger and the community for the security to the community for the private to the streets of the first time to the private to all the private training the programs to the community streets on the first time to all the first time to the police officers of the first time and the streets and a more people for the first time to the first time to complete the programs the American people to the people who work to provide the states to the streets to the same to the problems and the programs that we can not strengthen the people to the streets of the people who work to the streets to all the defense the private the police on the streets and the people to the streets and problems and the people to the streets to the continue to pay the first time to the programs to the community for the communities to stay the programs the people who have a chance to provide and the programs that the programs to the people of the Congress to the police officers of the first time to pay they should be able to save the programs to the proposal to the police officers of the programs to save the people are all the problems of the people are all the real teachers and the first time to the problems of the community for the problems of the American people to the streets and a few part of the private of the first time to make the first time to be able to the police officers of the police officers of the children to be the problems of the promise of the streets of the fact of the end the doesn't the political problems to achieve the police officers of the communities and the last community for the same time to have a pay the people who are a college to the first time to the police officers of the programs to the problems of the people have to make the streets to pay they do the first time to stay that the conviction to strengthen the programs to do the streets and the world.\"\n",
            "\n"
          ]
        }
      ]
    },
    {
      "cell_type": "markdown",
      "source": [
        "A noticeable element is the frequent repetition of sequences of words. This may be due to poor training, or tunable with the temperature parameter.\n",
        "\n",
        "Next, a speech still of 5 sentences but this time with a random sentence said by the real president Donald Trump."
      ],
      "metadata": {
        "id": "MsvqZKRCzPEn"
      }
    },
    {
      "cell_type": "code",
      "source": [
        "rnd_sentence = random.choice(trump_sentences).strip()\n",
        "print(\"Clinton as Trump:\\\"[\" + rnd_sentence + \"]\", end = \"\")\n",
        "print(generate(clinton_RNP, rnd_sentence, clinton_sentences_avglen*5, temperature=temperature) + '\\\"\\n')"
      ],
      "metadata": {
        "colab": {
          "base_uri": "https://localhost:8080/"
        },
        "id": "x-da3WkRzE04",
        "outputId": "4852c35d-83c0-4fc5-9193-5d49a7349072"
      },
      "execution_count": null,
      "outputs": [
        {
          "output_type": "stream",
          "name": "stdout",
          "text": [
            "Clinton as Trump:\"[The biggest thing] to help to the first time to strengthen the people to be here to do the private training the programs to the same true the strength of the problems and the problems of the people to provide and the first time that the people who work and the world's who are states the problems of the streets to be the conversity in the productivity and the streets and the community for the streets and the profound the different companies and the world to do a secure the opportunity to stop the programs the continue to support the people who work with heart and the people to the programs the same time to do the streets and the streets and the law about the families and the change the programs the communities to help the programs to the police officers of the same truth the communities that the people to be able to make the police officers of the people of the State of the Congress to the people to help the people of the Congress the American people to provide the strength of the communities and the streets and police officers to do the same true the commitment and more than any of the people who have a comprehensive to experience of the people to pay to help the commitment to strengthen the world to do the face of the streets and the people who have the problems to start the first time the problems and the streets and the first time and the time to pay the same truth to the took a chance to save the communities and the last few down the Senator King to save a new world to the people the programs to respection of the same truth the Senate to provide and the people who work to do the same time to do the Senate the people who work with the same time the change the world's down the commitment to the same time the time to help the Senate the Senator Social Security for the people who have the people to strengthen the strength of the people of the first time to stop the trade and the first time have a stronger for a comprehensive action to the proposal the people of the people to provide for the community to prevent the problems and the people to a children and the people to provide than any people to help the conviction of the conviction to be programs to provide the street of the streets in the first time to the strength of the last responsibility to see the things to the middle class the communities and the streets and the first time to strengthen the people who have a single to do it to do the first time to the conversity to pay about the people to help to the environment to strengthen the programs of the right the programs to the strength of the problems of the people to help the world that the proposal to provide the challenges and the problems of the world that the people who were all the community for the private troops and the programs the programs to pay the programs the strength of our families of the people who work with the companies to the people are all the streets and the problems of the productivity of the people to stronger and the people to be able to strengthen the people who work to stand and the people to provide the streets to the people the force the right to the commitment to start their children and the problems to prevent the time in the first time to provide and the first time and the work to pay about the communities and the problems of our party of the last continue to strengthen the first time to the same time to stay that the first time the parents and the street.\"\n",
            "\n"
          ]
        }
      ]
    },
    {
      "cell_type": "markdown",
      "source": [
        "Finally, a speech with the custom random sentence stated before, \"*People keep telling me orange but I still prefer pink.*\""
      ],
      "metadata": {
        "id": "h2KYLT-jzeD3"
      }
    },
    {
      "cell_type": "code",
      "source": [
        "print(\"Clinton:\\\"[\" + custom_sentence + \"]\", end = \"\")\n",
        "print(generate(clinton_RNP, custom_sentence, clinton_sentences_avglen*5, temperature=temperature) + '\\\"\\n')"
      ],
      "metadata": {
        "colab": {
          "base_uri": "https://localhost:8080/"
        },
        "id": "aP0VEouwzYOZ",
        "outputId": "ab090479-d8a6-45bf-889f-51ac042ffee8"
      },
      "execution_count": null,
      "outputs": [
        {
          "output_type": "stream",
          "name": "stdout",
          "text": [
            "Clinton:\"[People keep telling me orange but I still prefer pink.] I want to strengthen the first time to stay the first time to provide the things the streets and the streets and the Senator Somalia and the Senators and the first time to the Congress to the people are stronger and the police officers of the streets and the people to strengthen the first time to help the problems of the police officers of the people who are all the first time in the streets and the streets of the streets of the people to the commitment to save the people who work to provide the things the students when the teachers of the problems of the first time to achieve the security to the people who are some of the people who are and the programs to the end the politics of the people who have the continue to stay that the streets and the problems that is the first time the people to help the problems of the people who are and the people who are the first time to stop the provides the people the police officers of the people of the Social Security to strengthen the Senator State of the police officer and the Senator Kosovo and the United States Congress the states the Senate the same troops the Senator Somalia to stay the Senator King to the Congress and the Senator Kennedy and the Congress and the Senator Kennedy and the Congress to do the State and the State of the Congress to stay the Congress to pass the Senate the Congress that the Senate to afford the basis of the streets to stonight to the streets to stop the Senate to pay about the State the terror and the same to the people to the Congress to the Congress who have a strong the American people to help the people to the Congress and the Senator King and provide the State of the streets to the Congress to the Senator Kennedy and the Congress to help the Congress that stronger and the Congress to the Congress have a responsibility to stop the world the first time to all the people who work to the same to the streets to help the Senate and all the Congress who should also have the American people to a stand it to strengthen the place the communities and the people to stand the teachers to the private the streets and the proposal the people who work to be able to help the first time to pay the proposal the first time to the communities and the first time to pay the law to the people have to strengthen the programs the strength and strength of the productive to the streets and the change the streets to be the took the streets who have to stop the same time to strengthen the people who work to the programs to the 21st century to pay the same time to help the Senator King to provide the people to save the world to the Congress to the State of the State the Congress that the streets to strengthen the people who were the Congress to make a chance to the State of the people who were all the continue to strengthen the first time the Congress to the Senate the Congress the streets and the Congress and Congress to the Senator King to the State that the Congress that the Congress and the Congress to stay the Congress to the Congress and Congress and Congress to the Congress to strengthen the streets and the Senate and the fact of the Congress the American people to the productivity for the deficit the first time and the streets of the people to the first time the streets to the people who work to the strength of the first time to stand the programs to the people here and the trade and the people to applaud the same time when the world to the Congress who are strength of the promise of the first time to strengthen the streets that the world to help the programs the distinguished and the programs that the same time to the Congress to help the people who have to stop the programs in the constructive and the last about the change the world.\"\n",
            "\n"
          ]
        }
      ]
    },
    {
      "cell_type": "markdown",
      "source": [
        "Switching to RNP Trump."
      ],
      "metadata": {
        "id": "SLZigHZszy72"
      }
    },
    {
      "cell_type": "code",
      "source": [
        "trump_sentences_lengths = [len(str) for str in trump_sentences]\n",
        "trump_sentences_avglen = float(sum(trump_sentences_lengths))/len(trump_sentences_lengths)\n",
        "print (\"The real President Trump has an average sentence length of \" + \"{:5.5}\".format(trump_sentences_avglen) + \" characters\")\n",
        "trump_sentences_avglen = int(trump_sentences_avglen)\n",
        "trump_RNP = torch.load(\"RNP_trump.pt\")"
      ],
      "metadata": {
        "colab": {
          "base_uri": "https://localhost:8080/"
        },
        "id": "_15YS91Ezn0R",
        "outputId": "e992c882-182e-4fe0-c177-524d0e32182c"
      },
      "execution_count": 14,
      "outputs": [
        {
          "output_type": "stream",
          "name": "stdout",
          "text": [
            "The real President Trump has an average sentence length of 70.681 characters\n"
          ]
        }
      ]
    },
    {
      "cell_type": "markdown",
      "source": [
        "We can see a major difference in the style of the two presidents: Clinton has an average sentence length of 40 characters longer than Trump. This may highlight a change in dialectic overtime, or just of the two presidents, shifting from longer and elaborated sentences to shorter, impactful, simpler ones. This surely has contributed to the better result for the RNP Clinton in imitating Trump rather than its real counterpart."
      ],
      "metadata": {
        "id": "sUfUYEVN0NNo"
      }
    },
    {
      "cell_type": "code",
      "source": [
        "scores = []\n",
        "for i in range(100):\n",
        "    rnd_sentence = random.choice(trump_sentences).strip()\n",
        "    gen_sentence = rnd_sentence[0:5] + generate(trump_RNP, rnd_sentence[0:5], len(rnd_sentence) - 5, temperature = temperature, proper_ending = False)\n",
        "    scores.append(SequenceMatcher(None, rnd_sentence, gen_sentence).ratio())\n",
        "print(\"The Recurrent Neural President Trump resembles the real President Trump at\", \"{:.3}%\".format(np.mean(scores)*100))\n",
        "scores = []\n",
        "for i in range(100):\n",
        "    rnd_sentence = random.choice(clinton_sentences).strip()\n",
        "    gen_sentence = rnd_sentence[0:5] + generate(trump_RNP, rnd_sentence[0:5], len(rnd_sentence) - 5, temperature = temperature, proper_ending = False)\n",
        "    scores.append(SequenceMatcher(None, rnd_sentence, gen_sentence).ratio())\n",
        "print(\"The Recurrent Neural President Trump resembles the real President Clinton at\", \"{:.3}%\".format(np.mean(scores)*100))"
      ],
      "metadata": {
        "colab": {
          "base_uri": "https://localhost:8080/"
        },
        "id": "3uXgUScrz6HJ",
        "outputId": "c65dbe54-8fe9-48a4-be16-f9c17801dd71"
      },
      "execution_count": null,
      "outputs": [
        {
          "output_type": "stream",
          "name": "stdout",
          "text": [
            "The Recurrent Neural President Trump resembles the real President Trump at 41.6%\n",
            "The Recurrent Neural President Trump resembles the real President Clinton at 32.0%\n"
          ]
        }
      ]
    },
    {
      "cell_type": "markdown",
      "source": [
        "As exptected, RNP Trump can imitate the real Trump better than it can imitate the real Clinton. It's interesting to see the accuracy of the imitation: while RNP Clinton imitates the real Clinton with an accuracy of circa 35%, RNP Trump has a fairly better result of almost 42%.\n",
        "\n",
        "The causes may be several. The first thing that comes to mind is the fairly shorter average length of the sentences of president Trump compared to the sentences of president Clinton. This may help the CharRNN in reconstructing, as its always easier generating shorter sentences rather than longer ones.\n",
        "\n",
        "Let's see the sample speeches of RNP Trump."
      ],
      "metadata": {
        "id": "zQvyqVBE4EN2"
      }
    },
    {
      "cell_type": "code",
      "source": [
        "print(\"\\nSample speech\")\n",
        "print(\"\\\"Dear Americans,\" + generate(trump_RNP, \"Dear Americans,\", trump_sentences_avglen*15, temperature=temperature) + '\\\"\\n')"
      ],
      "metadata": {
        "colab": {
          "base_uri": "https://localhost:8080/"
        },
        "id": "9k5U8jNr3_F7",
        "outputId": "3612e3a2-4d21-4e14-e3fc-1c23f6316d04"
      },
      "execution_count": null,
      "outputs": [
        {
          "output_type": "stream",
          "name": "stdout",
          "text": [
            "\n",
            "Sample speech\n",
            "\"Dear Americans, we are working our country. We will never been a lot of stand our country. We have a lot of people are now include of the world. They love the presidents and the world. We will not strong and sore warrior. We will not be all of the world war on the privilege of American people that are and the world. We have to be a lot of life, and they were all care of our country. We will not be all of the world with the world to the same workers and the world to protect our country. We will be all of the progress with the president of the presidency of our country. We have to be a lot of surproted and the world to the United States and the world to the brave to the world. We will seek to protect the United States with the world to the United States of American people who are the world to the presidency of the world because they want to thank the love the world. We have to be able to be a lot of people in the world. We will never been a lot of people that the way. We have to do what we have to come also say they were the world. We can see what we with the way they want to thank the president of the priority of our country.\"\n",
            "\n"
          ]
        }
      ]
    },
    {
      "cell_type": "code",
      "source": [
        "rnd_sentence = random.choice(trump_sentences).strip()\n",
        "print(\"Trump as Trump:\\\"[\" + rnd_sentence + \"]\", end = \"\")\n",
        "print(generate(trump_RNP, rnd_sentence, trump_sentences_avglen*5, temperature=temperature) + '\\\"\\n')"
      ],
      "metadata": {
        "colab": {
          "base_uri": "https://localhost:8080/"
        },
        "id": "oBu6_4oX5Avc",
        "outputId": "8efb965f-acee-45ce-fb3d-16121bbdf50c"
      },
      "execution_count": null,
      "outputs": [
        {
          "output_type": "stream",
          "name": "stdout",
          "text": [
            "Trump as Trump:\"[And American grit will ensure that what we dream, and what we build, will truly be second to none] only also said, we will be all of the world. We have a lot of people are now protect our country. We will never been better than any thought it was a lot of people that is why they want to thank you very much. We will not be all over the world. We have a lot of the world. We have to be a lot of people in the United States and the world to protect the world.\"\n",
            "\n"
          ]
        }
      ]
    },
    {
      "cell_type": "code",
      "source": [
        "rnd_sentence = random.choice(clinton_sentences).strip()\n",
        "print(\"Trump as Clinton:\\\"[\" + rnd_sentence + \"]\", end = \"\")\n",
        "print(generate(trump_RNP, rnd_sentence, trump_sentences_avglen*5, temperature=temperature) + '\\\"\\n')"
      ],
      "metadata": {
        "colab": {
          "base_uri": "https://localhost:8080/"
        },
        "id": "VEzHHwOG5CN7",
        "outputId": "c044dd78-e9be-451d-9c7f-69aeb6a747df"
      },
      "execution_count": null,
      "outputs": [
        {
          "output_type": "stream",
          "name": "stdout",
          "text": [
            "Trump as Clinton:\"[Anyone, anyone who takes on our troops will suffer the consequences] and the world to be a lot of people with the presidency. We will be all over a big problem. We will be all over the best things to defend the world. We will never been the world. We will be all of the world. We have to special countries to the people who are an incredible private special progress to the country. We will never been better than any thought it was a lot of people.\"\n",
            "\n"
          ]
        }
      ]
    },
    {
      "cell_type": "code",
      "source": [
        "print(\"Trump:\\\"[\" + custom_sentence + \"]\", end = \"\")\n",
        "print(generate(trump_RNP, custom_sentence, trump_sentences_avglen*5, temperature=temperature) + '\\\"\\n')"
      ],
      "metadata": {
        "colab": {
          "base_uri": "https://localhost:8080/"
        },
        "id": "Df1joAXr5FzK",
        "outputId": "0a761a95-2a83-464d-afc8-7a051dfa4ad3"
      },
      "execution_count": null,
      "outputs": [
        {
          "output_type": "stream",
          "name": "stdout",
          "text": [
            "Trump:\"[People keep telling me orange but I still prefer pink.] We will not seek to the last train and the way they have to make the world of American people that is the long the world. We will starting to the future of the presidents to be all the privilege and the future that we have a lot of people are now includes that we will be all over the world to be a lot of countries of the region and allies and sore work to protect our country and the people that are the same prosperity and strength and conflict and defends of the world our borders and the world.\"\n",
            "\n"
          ]
        }
      ]
    },
    {
      "cell_type": "markdown",
      "source": [
        "Changing the temperature parameter"
      ],
      "metadata": {
        "id": "mdYdBPiDppF9"
      }
    },
    {
      "cell_type": "code",
      "source": [
        "temperature = 0.8"
      ],
      "metadata": {
        "id": "Y7HxFTOhqIrt"
      },
      "execution_count": 1,
      "outputs": []
    },
    {
      "cell_type": "code",
      "source": [
        "rnd_sentence = random.choice(clinton_sentences).strip()\n",
        "print(\"Clinton as Clinton:\\\"[\" + rnd_sentence + \"]\", end = \"\")\n",
        "print(generate(clinton_RNP, rnd_sentence, clinton_sentences_avglen*5, temperature=temperature) + '\\\"\\n')\n",
        "rnd_sentence = random.choice(trump_sentences).strip()\n",
        "print(\"Trump as Trump:\\\"[\" + rnd_sentence + \"]\", end = \"\")\n",
        "print(generate(trump_RNP, rnd_sentence, trump_sentences_avglen*5, temperature=temperature) + '\\\"\\n')"
      ],
      "metadata": {
        "colab": {
          "base_uri": "https://localhost:8080/"
        },
        "id": "iNv6jJLhqJvO",
        "outputId": "38976100-868b-4422-ba12-4aab5bbbb819"
      },
      "execution_count": 16,
      "outputs": [
        {
          "output_type": "stream",
          "name": "stdout",
          "text": [
            "Clinton as Clinton:\"[They're going to see their own doctor when Bob Dole is President]s of Congress here and it a performing millions of America a choices. For the American of the fix the middle far that if democracy to provide at 150 iploble encourage, the resources who proposed it will move the Union I want to help paying the service that we have other preserve the same true a way that they camparts. Now the work uniforta $ 1,000 firms a forward for them to the even expensus together ais. As we know and the one party of them. Abring specitive there are we have to system in the looking the world, and the honor in America to discriminationship of this every harder, because you fighting it.\"\n",
            "\n",
            "Trump as Trump:\"[Your loved ones will never be forgotten, we will always honor their memory] of our citizens. We're also partnership outside of the lower. We're helped 0 - and their days on of the people, lost held and we have to be the Scout that. We than you have a far biils that would have all. They calls they're helped to build as largest also work. So we're doing that it will use energy with a couple to protection of you know, we can't comes.\"\n",
            "\n"
          ]
        }
      ]
    },
    {
      "cell_type": "markdown",
      "source": [
        "We notice the difference in quality in the generated speeches. They now both show punctuation marks, as well as a more diverse vocabulary and overall more sense. The comparison between the two Recurrent Neural Presidents imitating their real counterparts highlights the difference in sentence's length of the respective dialectic."
      ],
      "metadata": {
        "id": "FFMUWVByrUH6"
      }
    },
    {
      "cell_type": "markdown",
      "source": [
        "### Conclusions\n",
        "Thanks to the trained CharRNN models, we have been able to assess some core differences between the two real Presidents Bill Clinton and Donald Trump. These differences range from used vocabulary to sentence length, and some of these evaluations may be used to fine-tune the models to achieve better results. For example, we may measure the entropy of the sentences in order to obtain a similar measure with our models.\n",
        "\n",
        "This work was also a useful way to see and understand some implementations of a model studied in class, in order to choose which one to use based on personal preferences like coding style, features implemented, libraries used and so on.\n",
        "\n",
        "Lastly, it was fun seeing how the models are able to generate realistic sentences, that could've been said by one of the american presidents, followed by almost completely random sentences after few words. Then, whether some generated sentences may recall certain real speeches or not is not a suitable argument for this analysis. "
      ],
      "metadata": {
        "id": "MfXeLmu1u1q3"
      }
    }
  ]
}