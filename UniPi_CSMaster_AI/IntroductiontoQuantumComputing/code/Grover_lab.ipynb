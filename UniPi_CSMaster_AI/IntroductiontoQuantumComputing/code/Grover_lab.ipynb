{
 "cells": [
  {
   "cell_type": "code",
   "execution_count": null,
   "id": "ac115fac",
   "metadata": {},
   "outputs": [],
   "source": [
    "from qiskit import *\n",
    "from qiskit.tools.visualization import plot_histogram\n",
    "from qiskit.quantum_info import Operator, Statevector\n",
    "from qiskit.tools.monitor import job_monitor\n",
    "#from qiskit.ignis.mitigation.measurement import *\n",
    "from qiskit.circuit.library import PhaseOracle\n",
    "from qiskit import  Aer, assemble, transpile\n",
    "from qiskit.algorithms import Grover, AmplificationProblem\n",
    "from qiskit.circuit.library.standard_gates.x import XGate, MCXGate\n",
    "\n",
    "import numpy as np\n",
    "import matplotlib.pyplot as plt\n",
    "import math"
   ]
  },
  {
   "cell_type": "markdown",
   "id": "1e7f89c1-cacd-4973-8254-edfccd07845d",
   "metadata": {},
   "source": [
    "### Step A. ###  \n",
    "Construct a gate for Grover iteration.\n",
    "\n",
    "Consider the search space with the total number of item, 𝑁=8.\n",
    "Run the following cell to construct an oracle of a search problem."
   ]
  },
  {
   "cell_type": "code",
   "execution_count": null,
   "id": "788010a1-3900-4c2a-9f59-75636e2a1c6c",
   "metadata": {},
   "outputs": [],
   "source": [
    "## Create an Oracle\n",
    "N = 8 # the number of total items in the search space\n",
    "\n",
    "m = int(np.log2(N)) # the number of qubits required to construct the search space with N items\n",
    "\n",
    "myqc = QuantumCircuit(m, name='Oracle')\n",
    "\n",
    "num_solutions = 3\n",
    "\n",
    "if num_solutions==4:\n",
    "\n",
    "    # solutions are 010 and 001, 110 and 101\n",
    "    myqc.x(1)\n",
    "    myqc.z(range(2)) # this alone corresponds to solutions 000 and 011, 100 and 111\n",
    "    myqc.x(1)\n",
    "\n",
    "if num_solutions in [1,3]:\n",
    "   # solution is 000\n",
    "    myqc.x(range(m))\n",
    "    \n",
    "    # this alone corresponds to solution 111\n",
    "    myqc.h(m-1) # hadamards used to rotate mcx to mcz\n",
    "    myqc.mcx(list(range(m-1)),m-1)\n",
    "    myqc.h(m-1)\n",
    "\n",
    "    myqc.x(range(m))\n",
    "\n",
    "if num_solutions in [2,3]:\n",
    "\n",
    "    # solutions are 011 and 111\n",
    "\n",
    "    myqc.cz(0,1)\n",
    "    \n",
    "Oracle = myqc.to_gate()\n",
    "\n",
    "myqc.draw(output='mpl')"
   ]
  },
  {
   "cell_type": "code",
   "execution_count": null,
   "id": "4fac36d0-ab01-408a-991a-953466fb60d6",
   "metadata": {},
   "outputs": [],
   "source": [
    "from qiskit.quantum_info import Statevector\n",
    "\n",
    "hads = QuantumCircuit(m)\n",
    "hads.h(range(m))\n",
    "ket = Statevector(hads.compose(myqc))\n",
    "ket.to_dict()"
   ]
  },
  {
   "cell_type": "markdown",
   "id": "d7c87e5f-2451-4f77-8ce5-04e4601c00aa",
   "metadata": {},
   "source": [
    "Construct the diffuser"
   ]
  },
  {
   "cell_type": "code",
   "execution_count": null,
   "id": "528c85ea-a4d1-4e68-afb8-fce9a61e53bc",
   "metadata": {},
   "outputs": [],
   "source": [
    "qc = QuantumCircuit(m)\n",
    "qc.append(Oracle, range(m))\n",
    "\n",
    "### your code goes here\n",
    "\n",
    "\n",
    "####\n",
    "Grover = qc.to_gate()\n",
    "#"
   ]
  },
  {
   "cell_type": "markdown",
   "id": "7a0e8203-0c44-4052-b9df-4e6bab0e2952",
   "metadata": {},
   "source": [
    "We put everything together"
   ]
  },
  {
   "cell_type": "code",
   "execution_count": null,
   "id": "a37e4a89-9b03-452c-b2a1-23c16d06d956",
   "metadata": {},
   "outputs": [],
   "source": [
    "n=3\n",
    "circ = QuantumCircuit(n)\n"
   ]
  },
  {
   "cell_type": "code",
   "execution_count": null,
   "id": "e3b182b4-370b-4af9-b455-2697f50746c6",
   "metadata": {},
   "outputs": [],
   "source": [
    "sim = Aer.get_backend('aer_simulator')\n",
    "shots = 20000"
   ]
  },
  {
   "cell_type": "code",
   "execution_count": null,
   "id": "b3e7c008-b7e3-446f-9a64-6492f492596c",
   "metadata": {},
   "outputs": [],
   "source": [
    "####### Your code goes here\n"
   ]
  },
  {
   "cell_type": "markdown",
   "id": "f71a4724",
   "metadata": {},
   "source": [
    "### First Example ###\n",
    "Let us implement the oracle of the logical expression"
   ]
  },
  {
   "cell_type": "code",
   "execution_count": null,
   "id": "45e94b3e",
   "metadata": {},
   "outputs": [],
   "source": [
    "log_expr='(~a | ~b | ~c) & (d | b | ~c) & (a | ~d | c) &(~a| d| ~b)'"
   ]
  },
  {
   "cell_type": "markdown",
   "id": "c2d10a97",
   "metadata": {},
   "source": [
    "based on the true table\n",
    "\n",
    "In table form with each row being a 3-clause, x meaning \"this variable false\", o meaning \"this variable true\", and space meaning \"not in clause\":\n",
    "\n",
    "| a | b | c | d |\n",
    "|---|:---:|:---:|---:|\n",
    "| x | x    |x    |   |\n",
    "|   |  o   |x    | o  |\n",
    "| o|     |o   | x  |\n",
    "|x|x| |o|\n"
   ]
  },
  {
   "cell_type": "code",
   "execution_count": null,
   "id": "ff64ed61",
   "metadata": {},
   "outputs": [],
   "source": [
    "n=4\n",
    "# oracle for the logical_expression \n",
    "# log_expr='(~a | ~b | ~c) & (d | b | ~c) & (a | ~d | c) &(~a| d| ~b)'\n",
    "q_oracle = QuantumCircuit(2*n+1)\n",
    "control1 = MCXGate(3, None, '111') #(~a | ~b | ~c)\n",
    "q_oracle.append(control1, [0, 1, 2, 4])\n",
    "control2 = MCXGate(3, None, '011') #( b | ~c| ~d)\n",
    "q_oracle.append(control2, [1, 2, 3, 5])\n",
    "control3 = MCXGate(3, None, '011') #(a | ~d | c)\n",
    "q_oracle.append(control3, [0,2, 3, 6])\n",
    "control4 = MCXGate(3, None, '101') #(~a| d| ~b)\n",
    "q_oracle.append(control4, [0, 1, 3, 7])\n",
    "control5 = MCXGate(4, None, '0000')\n",
    "q_oracle.append(control5, [4,5,6,7,8])\n",
    "q_oracle.z(8)\n",
    "# uncompute\n",
    "q_oracle.append(control5, [4,5,6,7,8])\n",
    "q_oracle.append(control4, [0,1,3,7])\n",
    "q_oracle.append(control3, [0,2,3,6])\n",
    "q_oracle.append(control2, [1,2,3,5])\n",
    "q_oracle.append(control1, [0,1,2,4])\n",
    "q_oracle.draw('mpl')"
   ]
  },
  {
   "cell_type": "markdown",
   "id": "92e44eed",
   "metadata": {},
   "source": [
    "Let us design the diffuser"
   ]
  },
  {
   "cell_type": "code",
   "execution_count": null,
   "id": "bd72275d",
   "metadata": {},
   "outputs": [],
   "source": [
    "q_diffuser =  QuantumCircuit(n)\n",
    "#### write your code here"
   ]
  },
  {
   "cell_type": "code",
   "execution_count": null,
   "id": "8d633889",
   "metadata": {},
   "outputs": [],
   "source": [
    "q_diffuser.draw('mpl')"
   ]
  },
  {
   "cell_type": "code",
   "execution_count": null,
   "id": "1080b683",
   "metadata": {},
   "outputs": [],
   "source": [
    "backend = BasicAer.get_backend('unitary_simulator')\n",
    "job = backend.run(transpile(q_diffuser, backend))\n",
    "job.result().get_unitary(q_diffuser, decimals=3)"
   ]
  },
  {
   "cell_type": "code",
   "execution_count": null,
   "id": "92aaf277",
   "metadata": {},
   "outputs": [],
   "source": [
    "U=job.result().get_unitary(q_diffuser, decimals=3)\n",
    "print(np.linalg.norm(U+(2*np.ones((2**n,2**n))/(2**n)-np.eye(2**n))))\n",
    "#print((2*np.ones((2**n,2**n))/(2**n)-np.eye(2**n)))"
   ]
  },
  {
   "cell_type": "markdown",
   "id": "08a76974",
   "metadata": {},
   "source": [
    "We can transform averything into a circuit"
   ]
  },
  {
   "cell_type": "code",
   "execution_count": null,
   "id": "590ae921",
   "metadata": {},
   "outputs": [],
   "source": [
    "def inizialize_phi(qcirc, nqubits):\n",
    "    #### Write inizializatio to phi\n",
    "    return qcirc"
   ]
  },
  {
   "cell_type": "code",
   "execution_count": null,
   "id": "57718db6",
   "metadata": {},
   "outputs": [],
   "source": [
    "n=4\n",
    "def oracle_ex(n):\n",
    "    # oracle for the logical_expression \n",
    "    # log_expr='(~a | ~b | ~c) & (d | b | ~c) & (a | ~d | c) &(~a| d| ~b)'\n",
    "    q_oracle = QuantumCircuit(2*n+1)\n",
    "    control1 = MCXGate(3, None, '111') #(~a | ~b | ~c)\n",
    "    q_oracle.append(control1, [0, 1, 2, 4])\n",
    "    control2 = MCXGate(3, None, '011') #( b | ~c| ~d)\n",
    "    q_oracle.append(control2, [1, 2, 3, 5])\n",
    "    control3 = MCXGate(3, None, '011') #(a | ~d | c)\n",
    "    q_oracle.append(control3, [0,2, 3, 6])\n",
    "    control4 = MCXGate(3, None, '101') #(~a| d| ~b)\n",
    "    q_oracle.append(control4, [0, 1, 3, 7])\n",
    "    control5 = MCXGate(4, None, '0000')\n",
    "    q_oracle.append(control5, [4,5,6,7,8])\n",
    "    q_oracle.z(8)\n",
    "    # uncompute\n",
    "    q_oracle.append(control5, [4,5,6,7,8])\n",
    "    q_oracle.append(control4, [0,1,3,7])\n",
    "    q_oracle.append(control3, [0,2,3,6])\n",
    "    q_oracle.append(control2, [1,2,3,5])\n",
    "    q_oracle.append(control1, [0,1,2,4])\n",
    "\n",
    "    oracle = q_oracle.to_gate()\n",
    "    oracle.name =\"oracle\"\n",
    "    return oracle   "
   ]
  },
  {
   "cell_type": "code",
   "execution_count": null,
   "id": "812d4d79",
   "metadata": {},
   "outputs": [],
   "source": [
    "def diffuser(nv):\n",
    "    qvar = QuantumRegister(nv)\n",
    "    qtarget = QuantumRegister(1)\n",
    "    qc = QuantumCircuit(qvar, qtarget, name='diffuser')\n",
    "    # Apply transformation |s> -> |00..0> (H-gates)\n",
    "    \n",
    "    # Apply transformation |00..0> -> |11..1> (X-gates)\n",
    "     \n",
    "    # Do multi-controlled-Z gate\n",
    "     \n",
    "    # Apply transformation |11..1> -> |00..0>\n",
    "    \n",
    "    # Apply transformation |00..0> -> |s>\n",
    "    \n",
    "    # We will return the diffuser as a gate\n",
    "    \n",
    "    U_s = qc.to_gate()\n",
    "    U_s.name = \"diff\"\n",
    "    return U_s"
   ]
  },
  {
   "cell_type": "markdown",
   "id": "1aac604a",
   "metadata": {},
   "source": [
    "Let us prove with a logic expression with only a solution"
   ]
  },
  {
   "cell_type": "code",
   "execution_count": null,
   "id": "9a8b3a77",
   "metadata": {},
   "outputs": [],
   "source": [
    "log_expr ='(𝐴|𝐵|𝐶)&(𝐴|𝐵|~𝐶)&(𝐴|~𝐵|𝐶)&(𝐴|~𝐵|~𝐶)&(~𝐴|𝐵|𝐶)&(~𝐴|𝐵|~𝐶)&(~𝐴|~𝐵|𝐶)'"
   ]
  },
  {
   "cell_type": "markdown",
   "id": "7f36f942",
   "metadata": {},
   "source": [
    "we need to modify only the oracle"
   ]
  },
  {
   "cell_type": "code",
   "execution_count": null,
   "id": "0df464ac",
   "metadata": {},
   "outputs": [],
   "source": [
    "nc=7 # number of clauses\n",
    "nv=3 # number of variables\n",
    "def oracle_2(nv, nc):\n",
    "    # oracle for the logical_expression \n",
    "    # log_expr ='(𝐴|𝐵|𝐶)&(𝐴|𝐵|~𝐶)&(𝐴|~𝐵|𝐶)&(𝐴|~𝐵|~𝐶)&(~𝐴|𝐵|𝐶)&(~𝐴|𝐵|~𝐶)&(~𝐴|~𝐵|𝐶)'\n",
    "    qr = QuantumRegister(nv, 'val')\n",
    "    qa = QuantumRegister(nc, 'work')\n",
    "    q_checker = QuantumRegister(1, 'checker')\n",
    "    q_oracle = QuantumCircuit(qr, qa, q_checker)\n",
    "    control0= MCXGate(3, None, '000') #(𝐴|𝐵|𝐶)\n",
    "    q_oracle.append(control0, qr[:]+[qa[0]])\n",
    "    control1 = MCXGate(3, None, '001') #(𝐴|𝐵|~𝐶)\n",
    "    q_oracle.append(control1, qr[:]+[qa[1]])\n",
    "    control2 = MCXGate(3, None, '010') # (𝐴|~𝐵|𝐶)\n",
    "    q_oracle.append(control2, qr[:]+qa[2:3])\n",
    "    control3 = MCXGate(3, None, '011') #&(𝐴|~𝐵|~𝐶)\n",
    "    q_oracle.append(control3, qr[:]+qa[3:4])\n",
    "    control4 = MCXGate(3, None, '100') #(~𝐴|𝐵|𝐶)\n",
    "    q_oracle.append(control4, qr[:]+qa[4:5])\n",
    "    control5 = MCXGate(3, None, '101') #(~𝐴|𝐵|~𝐶)\n",
    "    q_oracle.append(control5, qr[:]+qa[5:6])\n",
    "    control6 = MCXGate(3, None, '110') #(~𝐴|~𝐵|𝐶)\n",
    "    q_oracle.append(control6, qr[:]+qa[6:7])\n",
    "    control7 = MCXGate(7, None, '0000000')\n",
    "    q_oracle.append(control7, qa[:]+q_checker[0:1])\n",
    "    q_oracle.z(q_checker[0])\n",
    "    # uncompute\n",
    "    q_oracle.append(control7, qa[:]+q_checker[0:1])\n",
    "    q_oracle.append(control6, qr[:]+qa[6:7])\n",
    "    q_oracle.append(control5, qr[:]+qa[5:6])\n",
    "    q_oracle.append(control4, qr[:]+qa[4:5])\n",
    "    q_oracle.append(control3, qr[:]+qa[3:4])\n",
    "    q_oracle.append(control2, qr[:]+qa[2:3])\n",
    "    q_oracle.append(control1, qr[:]+qa[1:2])\n",
    "    q_oracle.append(control0, qr[:]+qa[0:1])\n",
    "    q_oracle.draw('mpl')\n",
    "    oracle = q_oracle.to_gate()\n",
    "    oracle.name =\"oracle\"\n",
    "    return q_oracle   "
   ]
  },
  {
   "cell_type": "code",
   "execution_count": null,
   "id": "48a2ba6b",
   "metadata": {},
   "outputs": [],
   "source": [
    "circ=oracle_2(nv, nc)\n",
    "circ.draw('mpl')"
   ]
  },
  {
   "cell_type": "code",
   "execution_count": null,
   "id": "85e73eee",
   "metadata": {},
   "outputs": [],
   "source": [
    "nv = 3\n",
    "nc=7\n",
    "\n",
    "qr = QuantumRegister(nv, 'val')\n",
    "qa = QuantumRegister(nc, 'work')\n",
    "q_checker = QuantumRegister(1, 'checker')\n",
    "c = ClassicalRegister(nv, 'res')\n",
    "\n",
    "sat_solver = QuantumCircuit(qr, qa, q_checker, c)\n",
    "\n",
    "## inizialize to hadamard\n",
    "sat_solver = inizialize_phi(sat_solver, nv)\n",
    "n_solutions = 1 #known a priori somehow\n",
    "iterations = math.floor(np.pi/4 * math.sqrt(2**len(qr)/n_solutions))\n",
    "print(iterations)\n",
    "\n",
    "for i in range(iterations):\n",
    "    sat_solver.append(oracle_2(nv, nc), qr[:]+qa[:]+[q_checker])\n",
    "    sat_solver.append(diffuser(nv), qr[:]+[q_checker])\n",
    "    \n",
    "for qubit in range(len(qr)):\n",
    "    sat_solver.measure(qr[qubit],c[qubit])\n",
    "\n",
    "sat_solver.decompose().draw('mpl')"
   ]
  },
  {
   "cell_type": "code",
   "execution_count": null,
   "id": "880d33c4-3e6d-4d15-9d4f-e1922c499434",
   "metadata": {},
   "outputs": [],
   "source": [
    "sim = Aer.get_backend('aer_simulator')\n",
    "shots = 20000\n",
    "####### Your code goes here\n"
   ]
  },
  {
   "cell_type": "code",
   "execution_count": null,
   "id": "9b142431",
   "metadata": {},
   "outputs": [],
   "source": [
    "oracle = PhaseOracle(log_expr)\n",
    "oracle.draw('mpl')"
   ]
  },
  {
   "cell_type": "code",
   "execution_count": null,
   "id": "88ada2c6",
   "metadata": {},
   "outputs": [],
   "source": [
    "backend= BasicAer.get_backend('qasm_simulator')"
   ]
  },
  {
   "cell_type": "code",
   "execution_count": null,
   "id": "b1b7c404",
   "metadata": {},
   "outputs": [],
   "source": [
    "problem = AmplificationProblem(oracle = oracle, is_good_state= oracle.evaluate_bitstring) \n",
    "grover = Grover(quantum_instance = backend)\n",
    "#grover = Grover(iterations=2, quantum_instance = backend)\n",
    "#circ = grover.construct_circuit(problem)"
   ]
  },
  {
   "cell_type": "code",
   "execution_count": null,
   "id": "8cc0d6ac",
   "metadata": {},
   "outputs": [],
   "source": [
    "result = grover.amplify(problem) #is a GroverResult\n",
    "print('Top measurement:', result.top_measurement)"
   ]
  },
  {
   "cell_type": "code",
   "execution_count": null,
   "id": "75a62825",
   "metadata": {},
   "outputs": [],
   "source": []
  }
 ],
 "metadata": {
  "kernelspec": {
   "display_name": "Python 3",
   "language": "python",
   "name": "python3"
  },
  "language_info": {
   "codemirror_mode": {
    "name": "ipython",
    "version": 3
   },
   "file_extension": ".py",
   "mimetype": "text/x-python",
   "name": "python",
   "nbconvert_exporter": "python",
   "pygments_lexer": "ipython3",
   "version": "3.8.8"
  }
 },
 "nbformat": 4,
 "nbformat_minor": 5
}
